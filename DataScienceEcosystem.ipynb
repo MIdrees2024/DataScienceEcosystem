{
  "metadata": {
    "kernelspec": {
      "name": "python",
      "display_name": "Python (Pyodide)",
      "language": "python"
    },
    "language_info": {
      "codemirror_mode": {
        "name": "python",
        "version": 3
      },
      "file_extension": ".py",
      "mimetype": "text/x-python",
      "name": "python",
      "nbconvert_exporter": "python",
      "pygments_lexer": "ipython3",
      "version": "3.8"
    }
  },
  "nbformat_minor": 4,
  "nbformat": 4,
  "cells": [
    {
      "cell_type": "markdown",
      "source": "# Data Science Tools and Ecosystem",
      "metadata": {}
    },
    {
      "cell_type": "markdown",
      "source": "In this notebook, Data Science Tools and Ecosystem are summarized.",
      "metadata": {}
    },
    {
      "cell_type": "markdown",
      "source": "**Objectives:**",
      "metadata": {}
    },
    {
      "cell_type": "markdown",
      "source": "Create a Jupyter Notebook\n\nInsert code and markdown cells\n\nShare your notebook through GitHub",
      "metadata": {}
    },
    {
      "cell_type": "markdown",
      "source": "Some of the popular languages that Data Scientists use are:",
      "metadata": {},
      "attachments": {}
    },
    {
      "cell_type": "markdown",
      "source": "1) Python",
      "metadata": {}
    },
    {
      "cell_type": "markdown",
      "source": "2) R",
      "metadata": {}
    },
    {
      "cell_type": "markdown",
      "source": "3) Julia",
      "metadata": {}
    },
    {
      "cell_type": "markdown",
      "source": "Some of the commonly used libraries used by Data Scientists include:",
      "metadata": {}
    },
    {
      "cell_type": "markdown",
      "source": "1) Python Libraries: Numpy, Pandas, TensorFlow",
      "metadata": {}
    },
    {
      "cell_type": "markdown",
      "source": "2) R Libraries: ggplot2, dplyr, tidyr, caret",
      "metadata": {}
    },
    {
      "cell_type": "markdown",
      "source": "3) Julia Libraries: Dataframes.jl, Plots.jl, Flux.jl",
      "metadata": {}
    },
    {
      "cell_type": "code",
      "source": "",
      "metadata": {
        "trusted": true
      },
      "outputs": [],
      "execution_count": null
    },
    {
      "cell_type": "markdown",
      "source": "Data Science Tools\n| **Tool | **Description**                                                                                   | **Primary Language(s)** |\n|------------------|---------------------------------------------------------------------------------------------------|-------------------------|\n| **Jupyter Notebook** | An open-source web application for creating and sharing documents with live code, equations, visualizations, and narrative text. | Python, R, Julia        |\n| **RStudio**      | An integrated development environment for R that includes a console, syntax-highlighting editor, and tools for plotting, history, debugging, and workspace management. | R                       |\n| **Spyder**       | An open-source IDE specifically designed for data science using Python, with advanced editing, debugging, and data exploration capabilities. | Python                  |\n",
      "metadata": {}
    },
    {
      "cell_type": "markdown",
      "source": "### Below are a few examples of evaluating arithmetic expressions in Python\nAddition (+)\nSubtraction (-)\nMultiplication (*)\nDivision (/)\n\n",
      "metadata": {}
    },
    {
      "cell_type": "markdown",
      "source": " This a simple arithmetic expression to mutiply then add integers",
      "metadata": {}
    },
    {
      "cell_type": "code",
      "source": "(3*4)+5",
      "metadata": {
        "trusted": true
      },
      "outputs": [
        {
          "execution_count": 5,
          "output_type": "execute_result",
          "data": {
            "text/plain": "17"
          },
          "metadata": {}
        }
      ],
      "execution_count": 5
    },
    {
      "cell_type": "code",
      "source": "minutes = 200  # Number of minutes\nhours = minutes / 60  # Conversion factor: 1 hour = 60 minutes\n\n# This will convert 200 minutes to hours by diving by 60\nprint(f\"{minutes} minutes is equal to {hours:.2f} hours.\")\n",
      "metadata": {
        "trusted": true
      },
      "outputs": [
        {
          "name": "stdout",
          "text": "200 minutes is equal to 3.33 hours.\n",
          "output_type": "stream"
        }
      ],
      "execution_count": 6
    },
    {
      "cell_type": "markdown",
      "source": "## Author",
      "metadata": {}
    },
    {
      "cell_type": "markdown",
      "source": "Muhammad Idrees",
      "metadata": {}
    },
    {
      "cell_type": "code",
      "source": "",
      "metadata": {
        "trusted": true
      },
      "outputs": [],
      "execution_count": null
    }
  ]
}